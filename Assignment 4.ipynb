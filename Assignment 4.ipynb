{
 "cells": [
  {
   "cell_type": "markdown",
   "metadata": {},
   "source": [
    "DataFrame Project Pandas"
   ]
  },
  {
   "cell_type": "code",
   "execution_count": 49,
   "metadata": {},
   "outputs": [],
   "source": [
    "import pandas as pd\n"
   ]
  },
  {
   "cell_type": "markdown",
   "metadata": {},
   "source": [
    "1. Create a dataframe with number of column and and column names according to the user"
   ]
  },
  {
   "cell_type": "code",
   "execution_count": 118,
   "metadata": {},
   "outputs": [
    {
     "name": "stdout",
     "output_type": "stream",
     "text": [
      "How many columns you want - 4\n",
      "Enter the column names - Name\n",
      "Enter the column names - Roll no\n",
      "Enter the column names - Marks\n",
      "Enter the column names - Grade\n",
      "Empty DataFrame\n",
      "Columns: [Name, Roll no, Marks, Grade]\n",
      "Index: []\n"
     ]
    }
   ],
   "source": [
    "df = pd.DataFrame()\n",
    "n = int(input(\"How many columns do you want? \"))\n",
    "print(f\"How many columns you want - {n}\")\n",
    "\n",
    "for i in range(n):\n",
    "    col_name = input(\"Enter the column names: \")\n",
    "    df.insert(i,col_name, '')\n",
    "    print(f\"Enter the column names - {col_name}\")\n",
    "\n",
    "\n",
    "print(df)"
   ]
  },
  {
   "cell_type": "markdown",
   "metadata": {},
   "source": [
    "Ask user dataframe is created you can store data"
   ]
  },
  {
   "cell_type": "code",
   "execution_count": 129,
   "metadata": {},
   "outputs": [
    {
     "name": "stdout",
     "output_type": "stream",
     "text": [
      "\n",
      "Dataframe is created you can store the data\n"
     ]
    }
   ],
   "source": [
    "\n",
    "ch = input(\"If dataframe is created, you can store the data ? (y/n)\")\n",
    "if ch == \"y\":\n",
    "    print(\"\\nDataframe is created you can store the data\")\n",
    "else:\n",
    "    print(\"Don't store the data\")\n",
    "\n"
   ]
  },
  {
   "cell_type": "markdown",
   "metadata": {},
   "source": [
    "Let user store data as many times as it requires"
   ]
  },
  {
   "cell_type": "code",
   "execution_count": 120,
   "metadata": {},
   "outputs": [
    {
     "name": "stdout",
     "output_type": "stream",
     "text": [
      "\n",
      "Dataframe is created you can store the data\n",
      "     Name Roll no Marks Grade\n",
      "0   Sonia      11    60     D\n",
      "1   Meena      12    76    C+\n",
      "2   Rahul      25    85    B+\n",
      "3     Sid      35    97    A+\n",
      "4    Asha      15    81     B\n",
      "5  Trisha      18    72     C\n",
      "6    Umar      23    88    B+\n",
      "7   Kirti      17    94     A\n"
     ]
    }
   ],
   "source": [
    "df = pd.DataFrame()\n",
    "n = int(input(\"How many columns do you want? \"))\n",
    "\n",
    "for i in range(n):\n",
    "    col_name = input(\"Enter the column names: \")\n",
    "    df.insert(i,col_name, '')\n",
    "\n",
    "print(\"\\nDataframe is created you can store the data\")\n",
    "\n",
    "while True:\n",
    "    ch = input(\"\\nDo you want to add the data? (y/n)\")\n",
    "    if ch == \"y\":\n",
    "        col_value = []\n",
    "        for col in df.columns:\n",
    "            cv = input(f\"{col} : \")\n",
    "            col_value.append(cv)\n",
    "        df.loc[len(df)] = col_value\n",
    "    else:\n",
    "        break\n",
    "   \n",
    "print(df)"
   ]
  },
  {
   "cell_type": "markdown",
   "metadata": {},
   "source": [
    "Store the DataFrame into the memory using syntax"
   ]
  },
  {
   "cell_type": "code",
   "execution_count": 122,
   "metadata": {},
   "outputs": [
    {
     "data": {
      "text/plain": [
       "Index      64\n",
       "Name       64\n",
       "Roll no    64\n",
       "Marks      64\n",
       "Grade      64\n",
       "dtype: int64"
      ]
     },
     "execution_count": 122,
     "metadata": {},
     "output_type": "execute_result"
    }
   ],
   "source": [
    "df.memory_usage(index = True, deep = False)"
   ]
  },
  {
   "cell_type": "markdown",
   "metadata": {},
   "source": [
    "DataFrameName.to_csv(‘DataFrameName.csv’)"
   ]
  },
  {
   "cell_type": "code",
   "execution_count": 132,
   "metadata": {},
   "outputs": [],
   "source": [
    "df.to_csv(\"Student details.csv\")\n"
   ]
  },
  {
   "cell_type": "markdown",
   "metadata": {},
   "source": [
    "Final project"
   ]
  },
  {
   "cell_type": "code",
   "execution_count": 131,
   "metadata": {},
   "outputs": [
    {
     "name": "stdout",
     "output_type": "stream",
     "text": [
      "How many columns do you want - 4\n",
      "Enter the column names - Name\n",
      "Enter the column names - Roll no\n",
      "Enter the column names - Marks\n",
      "Enter the column names - Grade\n",
      "\n",
      "Dataframe is created you can store the data\n",
      "     Name Roll no Marks Grade\n",
      "0   Sonia      11    60     D\n",
      "1   Meena      12    76     B\n",
      "2   Rahul      25    85     A\n",
      "3     Sid      35    97    A+\n",
      "4    Asha      15    81    B+\n",
      "5  Trisha      18    72    C+\n",
      "6    Umar      23    88    B+\n",
      "7   Kirti      17    94    A+\n"
     ]
    }
   ],
   "source": [
    "df = pd.DataFrame()\n",
    "n = int(input(\"How many columns do you want? \"))\n",
    "print(f\"How many columns do you want - {n}\")\n",
    "\n",
    "for i in range(n):\n",
    "    col_name = input(\"Enter the column names: \")\n",
    "    df.insert(i,col_name, '')\n",
    "    print(f\"Enter the column names - {col_name}\")\n",
    "\n",
    "print(\"\\nDataframe is created you can store the data\")\n",
    "\n",
    "\n",
    "while True:\n",
    "    ch = input(\"\\nDo you want to add the data? (y/n)\")\n",
    "    if ch == \"y\":\n",
    "        col_value = []\n",
    "        for col in df.columns:\n",
    "            cv = input(f\"{col} : \")\n",
    "            col_value.append(cv)\n",
    "        df.loc[len(df)] = col_value\n",
    "    else:\n",
    "        break\n",
    "   \n",
    "print(df)\n",
    "df.memory_usage(index = True, deep = False)\n",
    "df.to_csv(\"Student details.csv\")"
   ]
  }
 ],
 "metadata": {
  "kernelspec": {
   "display_name": "Python 3.10.7 64-bit",
   "language": "python",
   "name": "python3"
  },
  "language_info": {
   "codemirror_mode": {
    "name": "ipython",
    "version": 3
   },
   "file_extension": ".py",
   "mimetype": "text/x-python",
   "name": "python",
   "nbconvert_exporter": "python",
   "pygments_lexer": "ipython3",
   "version": "3.10.7"
  },
  "orig_nbformat": 4,
  "vscode": {
   "interpreter": {
    "hash": "58837b1b657ea91009af8409fc244ae3b5ccf93ea980d6fb6b80adc5f697f4cc"
   }
  }
 },
 "nbformat": 4,
 "nbformat_minor": 2
}
